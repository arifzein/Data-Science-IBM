{
  "nbformat": 4,
  "nbformat_minor": 0,
  "metadata": {
    "colab": {
      "name": "Business Proposal.ipynb",
      "provenance": []
    },
    "kernelspec": {
      "name": "python3",
      "display_name": "Python 3"
    }
  },
  "cells": [
    {
      "cell_type": "markdown",
      "metadata": {
        "id": "awWtyxJVBmQi"
      },
      "source": [
        "**The Battle of Neighborhoods | Business Proposal | Introduction**\n",
        "\n",
        "**Introduction:**\n",
        "\n",
        "The purpose of this Project is to help people in exploring better facilities around their neighborhood. It will help people making smart and efficient decision on selecting great neighborhood out of numbers of other neighborhoods in Jakarta Barat, Indonesia.\n",
        "\n",
        "Lots of people are migrating to various states of Jakarta Barat and needed lots of research for good housing prices and reputated schools for their children. This project is for those people who are looking for better neighborhoods. For ease of accessing to Cafe, School, Super market, medical shops, grocery shops, mall, theatre, hospital, like minded people, etc.\n",
        "\n",
        "I am a business analyst currently residing in Jakarta Barat Indonesia. I currently live within walking distance to buy food therefore I have access to good public transportation to geet it. Likewise, I enjoy many ammenities in the neighborhood , such as international cousine restaurants, cafes, food shops and entertainment. I have been offered a great opportunity to work in Jakarta. Although, I am very excited about it, I am a bit stress toward the process to secure a comparable place to live in here. Therefore, I decided to apply the learned skills during the Coursera course to explore ways to make sure my decision is factual and rewarding. Of course, there are alternatives to achieve the answer using available Google and Social media tools, but it rewarding doing it myself with learned tools."
      ]
    },
    {
      "cell_type": "markdown",
      "metadata": {
        "id": "z_AsT4QOB_wK"
      },
      "source": [
        "**Problem Which Tried to Solve:**\n",
        "\n",
        "The major purpose of this project, is to suggest a better neighborhood in a new city for the person who are shiffting there. Social presence in society in terms of like minded people. Connectivity to the airport, bus stand, city center, markets and other daily needs things nearby.\n",
        "\n",
        "1. Show list of venue in Jakarta Barat\n",
        "2. Show list of Hospital in Jakarta Barat\n"
      ]
    },
    {
      "cell_type": "markdown",
      "metadata": {
        "id": "ML17Mm12Cauz"
      },
      "source": [
        "**The Location:**\n",
        "\n",
        "Jakarta Barat is a popular destination for new immigrants in Indonesia to reside. As a result, it is one of the most diverse and multicultural areas in the Greater Jakarta Area, being home to various religious groups and places of worship. Although immigration has become a hot topic over the past few years with more governments seeking more restrictions on immigrants and refugees, the general trend of immigration into Indonesia has been one of on the rise."
      ]
    },
    {
      "cell_type": "markdown",
      "metadata": {
        "id": "_P8e4gzkC9iO"
      },
      "source": [
        "**Foursquare API:**\n",
        "\n",
        "This project would use Four-square API as its prime data gathering source as it has a database of millions of places, especially their places API which provides the ability to perform location search, location sharing and details about a business."
      ]
    },
    {
      "cell_type": "markdown",
      "metadata": {
        "id": "LDej-6DxDKPx"
      },
      "source": [
        "**Work Flow:**\n",
        "\n",
        "Using credentials of Foursquare API features of near-by places of the neighborhoods would be mined. Due to http request limitations the number of places per neighborhood parameter would reasonably be set."
      ]
    },
    {
      "cell_type": "markdown",
      "metadata": {
        "id": "2hfszJtrDZQN"
      },
      "source": [
        "**Clustering Approach:**\n",
        "\n",
        "To compare the similarities of some Kecamatan, we decided to explore neighborhoods, segment them, and group them into clusters to find similar neighborhoods in a big Kecamatan. To be able to do that, we need to cluster data which is a form of unsupervised machine learning: k-means clustering algorithm."
      ]
    },
    {
      "cell_type": "markdown",
      "metadata": {
        "id": "pfxRsKhjDlJK"
      },
      "source": [
        "**Libraries Which are Used to Develope the Project:**\n",
        "\n",
        "**Pandas:** For creating and manipulating dataframes.\n",
        "\n",
        "**Folium:** Python visualization library would be used to visualize the neighborhoods cluster distribution of using interactive leaflet map.\n",
        "\n",
        "**Scikit Learn:** For importing k-means clustering.\n",
        "\n",
        "**JSON:** Library to handle JSON files.\n",
        "\n",
        "**XML:** To separate data from presentation and XML stores data in plain text format.\n",
        "\n",
        "**Geocoder:**  To retrieve Location Data.\n",
        "\n",
        "**Beautiful Soup and Requests:** To scrap and library to handle http requests."
      ]
    },
    {
      "cell_type": "markdown",
      "metadata": {
        "id": "ezm034YUDyaa"
      },
      "source": [
        ""
      ]
    }
  ]
}